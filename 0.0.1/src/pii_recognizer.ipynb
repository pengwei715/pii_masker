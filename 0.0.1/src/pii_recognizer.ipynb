{
 "cells": [
  {
   "cell_type": "markdown",
   "id": "53e7d2a8",
   "metadata": {},
   "source": [
    "# PII Recognizer\n",
    "\n",
    "A function to detect pii data and anonymize the pii entity in the text\n",
    "In this notebook we will go over the function's docs and outputs and see an end-to-end example of running it.\n",
    "\n",
    "1. [Documentation](#chapter1)\n",
    "2. [Results](#chapter2)\n",
    "3. [End-to-end Demo](#chapter3)"
   ]
  },
  {
   "cell_type": "markdown",
   "id": "6a344ebc",
   "metadata": {},
   "source": [
    "<a id=\"chapter1\"></a>\n",
    "## 1. Documentation\n",
    "\n",
    "It receive a string as input, return a string with all the pii entities anonymized and a html string with pii entity highlighted and a json string of the explaination of the model proecess. \n"
   ]
  },
  {
   "cell_type": "markdown",
   "id": "6be6b5ec",
   "metadata": {},
   "source": [
    "### 1.1. Parameters:\n",
    "* **text**: `str`\n",
    "\n",
    "    A piece of string that contains the PII data\n",
    "    \n",
    "* **model**: `str`\n",
    "    \n",
    "    - \"whole\", \"spacy\", \"pattern\", \"flair\". The default is \"whole\". \n",
    "    \n",
    "    \n",
    "    For each model, it can detect some entities. The \"whole\" model is combined all three models together. It can detect all the entities list below. \n",
    "    \n",
    "    \n",
    "    - \"spacy\" : [\"LOCATION\", \"PERSON\",\"NRP\",\"ORGANIZATION\",\"DATE_TIME\"]\n",
    "    \n",
    "    - \"pattern\": [\"CREDIT_CARD\", \"SSN\", \"PHONE\", \"EMAIL\"]\n",
    "    \n",
    "    - \"flair\": [ \"LOCATION\",\n",
    "        \"PERSON\",\n",
    "        \"NRP\",\n",
    "        \"GPE\",\n",
    "        \"ORGANIZATION\",\n",
    "        \"MAC_ADDRESS\",\n",
    "        \"US_BANK_NUMBER\",\n",
    "        \"IMEI\",\n",
    "        \"TITLE\",\n",
    "        \"LICENSE_PLATE\",\n",
    "        \"US_PASSPORT\",\n",
    "        \"CURRENCY\",\n",
    "        \"ROUTING_NUMBER\",\n",
    "        \"US_ITIN\",\n",
    "        \"US_BANK_NUMBER\",\n",
    "        \"US_DRIVER_LICENSE\",\n",
    "        \"AGE\",\n",
    "        \"PASSWORD\",\n",
    "        \"SWIFT_CODE\"\n",
    "        ]"
   ]
  },
  {
   "cell_type": "markdown",
   "id": "9e0a7926",
   "metadata": {},
   "source": [
    "### 1.2. Outputs:\n",
    "\n",
    "There are three outputs of this function. \n",
    "\n",
    "* **anonymized_text**: `str`\n",
    "\n",
    "    A piece of string that all the Pii entities are replaced with the label\n",
    "    \n",
    "* **html_str**: `str`\n",
    "    \n",
    "    A html string that all the Pii entities is labeled and highlighted.\n",
    "    \n",
    "    \n",
    "* **stats**: `str`\n",
    "    \n",
    "    A json-like string that has the explanation of which model has detect which Pii entity with confident score  \n",
    "    "
   ]
  },
  {
   "cell_type": "markdown",
   "id": "f479f576",
   "metadata": {},
   "source": [
    "<a id=\"chapter2\"></a>\n",
    "## 2. Results\n",
    "\n",
    "The result of the function looks like the following: \n",
    "\n",
    "For example if the input string is \n",
    "\n",
    "`John Doe 's ssn is 182838483, connect john doe with john_doe@gmail.com or 6288389029, he can pay you with 41482929939393`\n",
    "\n",
    "The anonymized_text is \n",
    "\n",
    "`<PERSON>'s <ORGANIZATION> is <SSN>, connect <PERSON> with <PERSON> <EMAIL> or <PHONE>, he can pay you with <CREDIT_CARD>`\n",
    "\n",
    "The html_str is\n",
    "\n",
    "<html><body><p><span><span style=\"display:inline-flex;flex-direction:row;align-items:center;background:#21c35466;border-radius:0.5rem;padding:0.25rem 0.5rem;overflow:hidden;line-height:1\">John Doe&#x27;s<span style=\"border-left:1px solid;opacity:0.1;margin-left:0.5rem;align-self:stretch\"></span><span style=\"margin-left:0.5rem;font-size:0.75rem;opacity:0.5\">PERSON</span></span> <span style=\"display:inline-flex;flex-direction:row;align-items:center;background:#80849566;border-radius:0.5rem;padding:0.25rem 0.5rem;overflow:hidden;line-height:1\">ssn<span style=\"border-left:1px solid;opacity:0.1;margin-left:0.5rem;align-self:stretch\"></span><span style=\"margin-left:0.5rem;font-size:0.75rem;opacity:0.5\">ORGANIZATION</span></span> is <span style=\"display:inline-flex;flex-direction:row;align-items:center;background:#ffa42133;border-radius:0.5rem;padding:0.25rem 0.5rem;overflow:hidden;line-height:1\">182838483<span style=\"border-left:1px solid;opacity:0.1;margin-left:0.5rem;align-self:stretch\"></span><span style=\"margin-left:0.5rem;font-size:0.75rem;opacity:0.5\">SSN</span></span>, connect me with <span style=\"display:inline-flex;flex-direction:row;align-items:center;background:#21c35466;border-radius:0.5rem;padding:0.25rem 0.5rem;overflow:hidden;line-height:1\">john_doe@gmail.com<span style=\"border-left:1px solid;opacity:0.1;margin-left:0.5rem;align-self:stretch\"></span><span style=\"margin-left:0.5rem;font-size:0.75rem;opacity:0.5\">PERSON</span></span><span style=\"display:inline-flex;flex-direction:row;align-items:center;background:#ff4b4b33;border-radius:0.5rem;padding:0.25rem 0.5rem;overflow:hidden;line-height:1\">john_doe@gmail.com<span style=\"border-left:1px solid;opacity:0.1;margin-left:0.5rem;align-self:stretch\"></span><span style=\"margin-left:0.5rem;font-size:0.75rem;opacity:0.5\">EMAIL</span></span> or <span style=\"display:inline-flex;flex-direction:row;align-items:center;background:#ff4b4b33;border-radius:0.5rem;padding:0.25rem 0.5rem;overflow:hidden;line-height:1\">6288389029<span style=\"border-left:1px solid;opacity:0.1;margin-left:0.5rem;align-self:stretch\"></span><span style=\"margin-left:0.5rem;font-size:0.75rem;opacity:0.5\">PHONE</span></span>, he can pay you with <span style=\"display:inline-flex;flex-direction:row;align-items:center;background:#ffa42133;border-radius:0.5rem;padding:0.25rem 0.5rem;overflow:hidden;line-height:1\">41482929939393<span style=\"border-left:1px solid;opacity:0.1;margin-left:0.5rem;align-self:stretch\"></span><span style=\"margin-left:0.5rem;font-size:0.75rem;opacity:0.5\">CREDIT_CARD</span></span>\n",
    "</span></p></body></html>\n",
    "\n",
    "The json report that explain the output is\n",
    "\n",
    "```yaml\n",
    "\n",
    "[\n",
    "  {\n",
    "    \"entity_type\": \"PERSON\", # result of the labeling\n",
    "    \"start\": 0, # start positon of the entity\n",
    "    \"end\": 9,  # end postion of the entity\n",
    "    \"score\": 0.99, # the confident score of the model + context_improvement\n",
    "    \"analysis_explanation\": {\n",
    "      \"recognizer\": \"FlairRecognizer\", # which recognizer is used to recognize this entity\n",
    "      \"pattern_name\": null,\n",
    "      \"pattern\": null,\n",
    "      \"original_score\": 0.99, # The original confident score from the pre-trained model\n",
    "      \"score\": 0.99, # the final score = original_score + score_context_improvement\n",
    "      \"textual_explanation\": \"Identified as PER by Flair's Named Entity Recognition\",\n",
    "      \"score_context_improvement\": 0, # The improvement from the context\n",
    "      \"supportive_context_word\": \"\",\n",
    "      \"validation_result\": null\n",
    "    },\n",
    "    \"recognition_metadata\": {\n",
    "      \"recognizer_identifier\": \"Flair Analytics_5577088640\",\n",
    "      \"recognizer_name\": \"Flair Analytics\"\n",
    "    }\n",
    "  },\n",
    "  ....\n",
    "]\n",
    "```\n",
    "\n"
   ]
  },
  {
   "cell_type": "markdown",
   "id": "4f7fbf6c",
   "metadata": {},
   "source": [
    "<a id=\"chapter3\"></a>\n",
    "## 3. End-to-end Demo"
   ]
  },
  {
   "cell_type": "code",
   "execution_count": null,
   "id": "583df2fa",
   "metadata": {},
   "outputs": [],
   "source": []
  }
 ],
 "metadata": {
  "kernelspec": {
   "display_name": "Python 3 (ipykernel)",
   "language": "python",
   "name": "python3"
  },
  "language_info": {
   "codemirror_mode": {
    "name": "ipython",
    "version": 3
   },
   "file_extension": ".py",
   "mimetype": "text/x-python",
   "name": "python",
   "nbconvert_exporter": "python",
   "pygments_lexer": "ipython3",
   "version": "3.11.4"
  }
 },
 "nbformat": 4,
 "nbformat_minor": 5
}
